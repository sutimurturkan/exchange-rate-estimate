{
  "nbformat": 4,
  "nbformat_minor": 5,
  "metadata": {
    "colab": {
      "name": "regression.ipynb",
      "provenance": [],
      "collapsed_sections": [
        "AOiKCJJRZbEX",
        "COubiYX8jUBC",
        "xRk2SjnapGHg",
        "R4Ph4x12snF9",
        "QRAxK5lM4Lli"
      ]
    },
    "language_info": {
      "name": "python"
    },
    "kernelspec": {
      "name": "python3",
      "display_name": "Python 3"
    }
  },
  "cells": [
    {
      "cell_type": "markdown",
      "metadata": {
        "id": "AOiKCJJRZbEX"
      },
      "source": [
        "# 1. REGRESSION "
      ],
      "id": "AOiKCJJRZbEX"
    },
    {
      "cell_type": "markdown",
      "metadata": {
        "id": "U6kMlHP5knau"
      },
      "source": [
        "We are given the daily exchange rates over the last 20 years. We are trying to come up with an estimate\n",
        "for the exchange rate on August 4th, 2021. Looking at the dataset, it seems that the changes in prices tend to be multiplicative rather than additive. As long as we stick to linear functions, the slope interaction terms would be better than fitting of a single function. \n",
        "\n",
        "Before starting with the model, we first import and prepare the dataset:"
      ],
      "id": "U6kMlHP5knau"
    },
    {
      "cell_type": "code",
      "metadata": {
        "id": "U2OGZReEIrxa"
      },
      "source": [
        "import numpy as np\n",
        "import pandas as pd\n",
        "import os\n",
        "import matplotlib.pyplot as plt"
      ],
      "id": "U2OGZReEIrxa",
      "execution_count": null,
      "outputs": []
    },
    {
      "cell_type": "code",
      "metadata": {
        "id": "doUXfnSCHzKZ"
      },
      "source": [
        "# Read the csv file\n",
        "if os.path.exists(\"USDtoARS.csv\"): \n",
        "    df = pd.read_csv(\"USDtoARS.csv\")\n",
        "    df.drop(df.columns[[2,4, 5,6,7,8,9,10,11,12,13,14,15]], axis = 1, inplace = True)"
      ],
      "id": "doUXfnSCHzKZ",
      "execution_count": null,
      "outputs": []
    },
    {
      "cell_type": "code",
      "metadata": {
        "id": "gbmrNU1na43n"
      },
      "source": [
        "# Prepare data\n",
        "x = df['Days since 01/01/2000'].to_numpy()\n",
        "y = df['Price'].to_numpy()"
      ],
      "id": "gbmrNU1na43n",
      "execution_count": null,
      "outputs": []
    },
    {
      "cell_type": "markdown",
      "metadata": {
        "id": "sBopN8wVmzY7"
      },
      "source": [
        "On a first look, our dependent variable is Price whereas the independent variable is Day. To further investigate the dataset, we visualize it in various methods."
      ],
      "id": "sBopN8wVmzY7"
    },
    {
      "cell_type": "code",
      "metadata": {
        "colab": {
          "base_uri": "https://localhost:8080/",
          "height": 265
        },
        "id": "b1ew0Nn0v4Hf",
        "outputId": "13e1eeb2-e332-43db-9536-b09d333eafaa"
      },
      "source": [
        "plt.scatter(x, y, c = 'green', edgecolors='k')\n",
        "plt.grid(True)\n",
        "plt.show()"
      ],
      "id": "b1ew0Nn0v4Hf",
      "execution_count": null,
      "outputs": [
        {
          "output_type": "display_data",
          "data": {
            "image/png": "[encoded data removed]",
            "text/plain": [
              "<Figure size 432x288 with 1 Axes>"
            ]
          },
          "metadata": {
            "tags": [],
            "needs_background": "light"
          }
        }
      ]
    },
    {
      "cell_type": "markdown",
      "metadata": {
        "id": "FYPkNXzev7Qc"
      },
      "source": [
        "This plot visualizes the days passed since the starting point, 01/01/00 against the Price."
      ],
      "id": "FYPkNXzev7Qc"
    },
    {
      "cell_type": "markdown",
      "metadata": {
        "id": "r9UN_1P9uBL-"
      },
      "source": [
        "We can also check the distribution of the Price with histogram which represents the distribution of data. We group the values of all given Series in the DataFrame\n",
        "into bins and draw all bins in one graph:"
      ],
      "id": "r9UN_1P9uBL-"
    },
    {
      "cell_type": "code",
      "metadata": {
        "colab": {
          "base_uri": "https://localhost:8080/",
          "height": 338
        },
        "id": "tH4f5_uItfME",
        "outputId": "d7de6586-202b-48d5-d406-7cf2be5b9030"
      },
      "source": [
        "df['Price'].plot.hist(bins=80, figsize=(8,5))"
      ],
      "id": "tH4f5_uItfME",
      "execution_count": null,
      "outputs": [
        {
          "output_type": "execute_result",
          "data": {
            "text/plain": [
              "<matplotlib.axes._subplots.AxesSubplot at 0x7f44efb6e210>"
            ]
          },
          "metadata": {
            "tags": []
          },
          "execution_count": 5
        },
        {
          "output_type": "display_data",
          "data": {
            "image/png": "[encoded data removed]",
            "text/plain": [
              "<Figure size 576x360 with 1 Axes>"
            ]
          },
          "metadata": {
            "tags": [],
            "needs_background": "light"
          }
        }
      ]
    },
    {
      "cell_type": "markdown",
      "metadata": {
        "id": "omTmw6UKw5yg"
      },
      "source": [
        "We can also generate Kernel Density Estimate plot using Gaussian kernels. This plot is non-parametric, and it helps us to estimate PDF of a random variable:"
      ],
      "id": "omTmw6UKw5yg"
    },
    {
      "cell_type": "code",
      "metadata": {
        "colab": {
          "base_uri": "https://localhost:8080/",
          "height": 282
        },
        "id": "JDP15IoDuei5",
        "outputId": "1cfbb20c-83c0-46b8-d6ba-524e2094f030"
      },
      "source": [
        "df['Price'].plot.density()"
      ],
      "id": "JDP15IoDuei5",
      "execution_count": null,
      "outputs": [
        {
          "output_type": "execute_result",
          "data": {
            "text/plain": [
              "<matplotlib.axes._subplots.AxesSubplot at 0x7f44ef543090>"
            ]
          },
          "metadata": {
            "tags": []
          },
          "execution_count": 6
        },
        {
          "output_type": "display_data",
          "data": {
            "image/png": "[encoded data removed]",
            "text/plain": [
              "<Figure size 432x288 with 1 Axes>"
            ]
          },
          "metadata": {
            "tags": [],
            "needs_background": "light"
          }
        }
      ]
    },
    {
      "cell_type": "markdown",
      "metadata": {
        "id": "BX3q7DVly1c3"
      },
      "source": [
        "Now, it's time to choose a model and make assumptions. In linear regression, we need to assume that the data is linear. However, the plots above show us that this is not the case here. Non-Linear regression, on the other hand, is a type of polynomial regression. It follows a non-linear relationship between the independent and the dependent variables. It's often used in places where the data follows a curvy trend, where linear regression would not be the best in terms of accuracy compared to a non-linear model."
      ],
      "id": "BX3q7DVly1c3"
    },
    {
      "cell_type": "markdown",
      "metadata": {
        "id": "uL7qOEbq9HBi"
      },
      "source": [
        "Let's make assumptions and try out a linear model. \n",
        "\n",
        "The first assumption is linear relatioship : We assume that there exists a linear relationship between the independent variable X and dependent variable Y.\n",
        "\n",
        "Second is independence : We count the residuals as independent.\n",
        "\n",
        "Third is normality : We assume that the residuals of the model are normalliy distributed.\n",
        "\n",
        "And finally, homoscedasticity : We count the residuals as having constant variance at every level of X. \n",
        "\n",
        "After splitting the data, we will prepare a training/testing environment and plot the linear regression model accordingly."
      ],
      "id": "uL7qOEbq9HBi"
    },
    {
      "cell_type": "code",
      "metadata": {
        "id": "SaQEW7M_1w3B"
      },
      "source": [
        "#cut the years\n",
        "x = x[: 280]\n",
        "y = y[: 280]"
      ],
      "id": "SaQEW7M_1w3B",
      "execution_count": null,
      "outputs": []
    },
    {
      "cell_type": "markdown",
      "metadata": {
        "id": "EKvY9DMaC-Ru"
      },
      "source": [
        "Splitting the data from this point ensured high accuracy when we use the following method to calculate r squared. Taking more than the past year resulted in low accuracy due to high fluctuations, and though the best accuracy was achieved with past 94 days, we should take more data points into account rather than ignoring them so using 280 days was ideal with 0.99 accuracy:"
      ],
      "id": "EKvY9DMaC-Ru"
    },
    {
      "cell_type": "code",
      "metadata": {
        "id": "_h-Ga09qaWT3",
        "colab": {
          "base_uri": "https://localhost:8080/"
        },
        "outputId": "375804ca-6889-4f42-c655-d1422bbca7ac"
      },
      "source": [
        "#Checking accuracy using r^2\n",
        "r = np.corrcoef(x, y)[0][1]\n",
        "r_sq = r * r\n",
        "print (r_sq)"
      ],
      "id": "_h-Ga09qaWT3",
      "execution_count": null,
      "outputs": [
        {
          "output_type": "stream",
          "text": [
            "0.9904869607949262\n"
          ],
          "name": "stdout"
        }
      ]
    },
    {
      "cell_type": "markdown",
      "metadata": {
        "id": "0Wy7wbS9DMjp"
      },
      "source": [
        "This makes sense, because the initial plot had showed us that the last couple of hundred days clearly follow a linear trend. This is way different compared to the first years of the 00's. Hence, the old data is irrelevant.\n",
        "\n",
        "Now we use sklearn's linear model functions, and pass in the dates and the prices from the last 280 days. Our model is called \"regr\", \"y_pred\" is the variable that holds predicted prices according to the predicted x values (days passed):"
      ],
      "id": "0Wy7wbS9DMjp"
    },
    {
      "cell_type": "code",
      "metadata": {
        "colab": {
          "base_uri": "https://localhost:8080/",
          "height": 286
        },
        "id": "0YtcXzDp0sWz",
        "outputId": "d0d73d50-3da7-4d8a-973c-6e6d1df34607"
      },
      "source": [
        "from sklearn import datasets, linear_model\n",
        "from sklearn.metrics import mean_squared_error, r2_score\n",
        "\n",
        "#training and testing variables\n",
        "x_train = x\n",
        "y_train = y\n",
        "x_test = x\n",
        "y_test = y\n",
        "x_train= x_train.reshape(-1, 1)\n",
        "y_train= y_train.reshape(-1, 1)\n",
        "x_test = x_test.reshape(-1, 1)\n",
        "y_test = y_test.reshape(-1, 1)\n",
        "\n",
        "#linear regression model\n",
        "regr = linear_model.LinearRegression()\n",
        "regr.fit(x_train, y_train)\n",
        "\n",
        "#predict\n",
        "y_pred = regr.predict(x_test)\n",
        "\n",
        "#coefficients\n",
        "print('Coefficients: \\n', regr.coef_)\n",
        "\n",
        "#plot outputs\n",
        "plt.scatter(x_test, y_test,  color='red')\n",
        "plt.plot(x_test, y_pred, color='blue')\n",
        "\n",
        "plt.xticks(())\n",
        "plt.yticks(())\n",
        "\n",
        "plt.show()"
      ],
      "id": "0YtcXzDp0sWz",
      "execution_count": null,
      "outputs": [
        {
          "output_type": "stream",
          "text": [
            "Coefficients: \n",
            " [[0.06446746]]\n"
          ],
          "name": "stdout"
        },
        {
          "output_type": "display_data",
          "data": {
            "image/png": "[encoded data removed]",
            "text/plain": [
              "<Figure size 432x288 with 1 Axes>"
            ]
          },
          "metadata": {
            "tags": []
          }
        }
      ]
    },
    {
      "cell_type": "markdown",
      "metadata": {
        "id": "TJMHMA1rKgW8"
      },
      "source": [
        "The plot makes sense, because r squared is not 1, therefore not a perfect fit, but close enough. The 280 days we chose close around the trend line well. Now, we use this model to predict an actual date that is not present in the dataset."
      ],
      "id": "TJMHMA1rKgW8"
    },
    {
      "cell_type": "markdown",
      "metadata": {
        "id": "Ham2_wkF_QVh"
      },
      "source": [
        "August 4th 2021 is 7886 days after the initial date. Putting 7886 as the x_predict will give us the Price, y_predict."
      ],
      "id": "Ham2_wkF_QVh"
    },
    {
      "cell_type": "code",
      "metadata": {
        "colab": {
          "base_uri": "https://localhost:8080/"
        },
        "id": "cGpi9RM--anZ",
        "outputId": "7772de8c-dda2-4a1c-cbed-754fad54f78f"
      },
      "source": [
        "x_predict = [[7886]]  \n",
        "y_predict = regr.predict(x_predict)\n",
        "print(y_predict)"
      ],
      "id": "cGpi9RM--anZ",
      "execution_count": null,
      "outputs": [
        {
          "output_type": "stream",
          "text": [
            "[[96.40778627]]\n"
          ],
          "name": "stdout"
        }
      ]
    },
    {
      "cell_type": "markdown",
      "metadata": {
        "id": "Eu-79sIIAEOj"
      },
      "source": [
        "This model predicted the Price to be 96.4 on the exact given date, using the past 280 days. "
      ],
      "id": "Eu-79sIIAEOj"
    },
    {
      "cell_type": "markdown",
      "metadata": {
        "id": "BZcP0c5zziOy"
      },
      "source": [
        "Linear fit is sensitive to outliers and is often inadequate but higher-order polynomial fits often leads to overfitting. We could cut the dataset, as we did in the example, starting from the elbow point, and assume a linear trend; however, we would have to ignore a large amount of data that could improve the model. This means a non-linear regression could solve the previously mentioned problems. "
      ],
      "id": "BZcP0c5zziOy"
    },
    {
      "cell_type": "markdown",
      "metadata": {
        "id": "nHtcPQ-Vn5Iy"
      },
      "source": [
        "There are various reasons not to expect accurate forecasting results from this method:\n",
        "\n",
        "1- Our model is solely developed due to records from the past. Past performance might not indicate future performance in every case. Therefore, the model based on historical data cannot always produce accurate predictions.\n",
        "\n",
        "2 - Our model has been specifically based on the data of last 280 days. The the output might change over a period of time, it can be seen if the code is altered and the cut point is different. Therefore, the accuracy of predictions will change as we move down the line.\n",
        "\n",
        "Considering these, we shouldn't expect to predict the exchange rate with full confidence. However, predictions like these always include uncertainty, and our model is good enough as an estimator for a specific given date. The important point is to be aware of the limitations of linear modeling."
      ],
      "id": "nHtcPQ-Vn5Iy"
    }
  ]
}